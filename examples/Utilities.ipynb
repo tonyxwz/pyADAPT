{
 "cells": [
  {
   "cell_type": "markdown",
   "metadata": {},
   "source": [
    "# Utilities of the Project"
   ]
  },
  {
   "cell_type": "markdown",
   "metadata": {},
   "source": [
    "## `OrderedDict` vs. `dict` "
   ]
  },
  {
   "cell_type": "code",
   "execution_count": 1,
   "metadata": {},
   "outputs": [],
   "source": [
    "from collections import OrderedDict"
   ]
  },
  {
   "cell_type": "code",
   "execution_count": 2,
   "metadata": {},
   "outputs": [
    {
     "name": "stdout",
     "output_type": "stream",
     "text": [
      "odict_values([0, 1, 2, 3, 4])\n",
      "dict_values([0, 1, 2, 3, 4])\n"
     ]
    }
   ],
   "source": [
    "od = OrderedDict()\n",
    "d = dict()\n",
    "keys = ['s1','s2','s3','s4','s5']\n",
    "for i in range(len(keys)):\n",
    "    od[keys[i]] = i\n",
    "    d[keys[i]] = i\n",
    "print(od.values())\n",
    "print(d.values())"
   ]
  },
  {
   "cell_type": "code",
   "execution_count": 3,
   "metadata": {},
   "outputs": [
    {
     "name": "stdout",
     "output_type": "stream",
     "text": [
      "odict_values([0, 1, 2, 3, 4])\n",
      "dict_values([0, 1, 2, 3, 4])\n"
     ]
    }
   ],
   "source": [
    "od = OrderedDict()\n",
    "d = dict()\n",
    "keys = ['flux1', 'glucose3', 'plasma', 'carbon_dioxide', 'amino_acid' ]\n",
    "for i in range(len(keys)):\n",
    "    od[keys[i]] = i\n",
    "    d[keys[i]] = i\n",
    "print(od.values())\n",
    "print(d.values())"
   ]
  },
  {
   "cell_type": "code",
   "execution_count": 4,
   "metadata": {},
   "outputs": [
    {
     "data": {
      "text/plain": [
       "odict_items([('flux1', 0), ('glucose3', 1), ('plasma', 2), ('carbon_dioxide', 3), ('amino_acid', 4)])"
      ]
     },
     "execution_count": 4,
     "metadata": {},
     "output_type": "execute_result"
    }
   ],
   "source": [
    "od.items()"
   ]
  },
  {
   "cell_type": "code",
   "execution_count": 5,
   "metadata": {},
   "outputs": [
    {
     "name": "stdout",
     "output_type": "stream",
     "text": [
      "flux1 0\n",
      "glucose3 1\n",
      "plasma 2\n",
      "carbon_dioxide 3\n",
      "amino_acid 4\n"
     ]
    }
   ],
   "source": [
    "for k, v in od.items():\n",
    "    print(k, v)"
   ]
  },
  {
   "cell_type": "code",
   "execution_count": null,
   "metadata": {},
   "outputs": [],
   "source": []
  }
 ],
 "metadata": {
  "kernelspec": {
   "display_name": "Python 3",
   "language": "python",
   "name": "python3"
  },
  "language_info": {
   "codemirror_mode": {
    "name": "ipython",
    "version": 3
   },
   "file_extension": ".py",
   "mimetype": "text/x-python",
   "name": "python",
   "nbconvert_exporter": "python",
   "pygments_lexer": "ipython3",
   "version": "3.6.9"
  }
 },
 "nbformat": 4,
 "nbformat_minor": 2
}
