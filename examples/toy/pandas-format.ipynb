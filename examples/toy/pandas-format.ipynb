{
 "cells": [
  {
   "cell_type": "code",
   "execution_count": 1,
   "metadata": {},
   "outputs": [],
   "source": [
    "from pyADAPT.io import read_data_raw, read_data_specs"
   ]
  },
  {
   "cell_type": "code",
   "execution_count": 2,
   "metadata": {},
   "outputs": [],
   "source": [
    "raw_data_path=\"data/toyModel/toyData.mat\"\n",
    "data_specs_path=\"data/toyModel/toyData.yaml\""
   ]
  },
  {
   "cell_type": "code",
   "execution_count": 6,
   "metadata": {},
   "outputs": [
    {
     "name": "stdout",
     "output_type": "stream",
     "text": [
      "C:\\Users\\tonyx\\source\n"
     ]
    }
   ],
   "source": [
    "cd C:\\Users\\tonyx\\source\\"
   ]
  },
  {
   "cell_type": "code",
   "execution_count": 7,
   "metadata": {},
   "outputs": [
    {
     "name": "stdout",
     "output_type": "stream",
     "text": [
      "C:\\Users\\tonyx\\source\\pyADAPT\n"
     ]
    }
   ],
   "source": [
    "cd pyADAPT/"
   ]
  },
  {
   "cell_type": "code",
   "execution_count": 8,
   "metadata": {},
   "outputs": [
    {
     "data": {
      "text/plain": [
       "'C:\\\\Users\\\\tonyx\\\\source\\\\pyADAPT'"
      ]
     },
     "execution_count": 8,
     "metadata": {},
     "output_type": "execute_result"
    }
   ],
   "source": [
    "pwd"
   ]
  },
  {
   "cell_type": "code",
   "execution_count": 9,
   "metadata": {},
   "outputs": [],
   "source": [
    "data_specs = read_data_specs(data_specs_path)"
   ]
  },
  {
   "cell_type": "code",
   "execution_count": 10,
   "metadata": {},
   "outputs": [],
   "source": [
    "raw_data = read_data_raw(raw_data_path)"
   ]
  },
  {
   "cell_type": "code",
   "execution_count": 11,
   "metadata": {},
   "outputs": [
    {
     "data": {
      "text/plain": [
       "{'toy': {'t': array([ 0,  1,  3,  5, 10], dtype=uint8),\n",
       "  's1_mean': array([0.78160408, 0.73543192, 0.55550638, 0.50842115, 0.52471618]),\n",
       "  's1_std': array([0.08966594, 0.09675989, 0.06996446, 0.05499131, 0.0759534 ]),\n",
       "  's2_mean': array([0.12261792, 0.21356089, 0.29210084, 0.32212577, 0.30776652]),\n",
       "  's2_std': array([0.01411255, 0.03211465, 0.03380012, 0.02923081, 0.03717262]),\n",
       "  's3_mean': array([0.49338649, 0.38242314, 0.30672949, 0.31018158, 0.2911744 ]),\n",
       "  's3_std': array([0.0451118 , 0.0237226 , 0.02932951, 0.04390839, 0.02524391]),\n",
       "  's4_mean': array([0.43290209, 0.41835114, 0.32048691, 0.28296589, 0.25948571]),\n",
       "  's4_std': array([0.06092815, 0.05007728, 0.04470691, 0.03561813, 0.02587567])}}"
      ]
     },
     "execution_count": 11,
     "metadata": {},
     "output_type": "execute_result"
    }
   ],
   "source": [
    "raw_data"
   ]
  },
  {
   "cell_type": "code",
   "execution_count": 12,
   "metadata": {},
   "outputs": [
    {
     "data": {
      "text/plain": [
       "{'name': 'toy data',\n",
       " 'description': \"from Natal van Riel and Christian Tiemann's publication in 2013\",\n",
       " 'raw_path': 'toyData.mat',\n",
       " 'groups': ['toy'],\n",
       " 'structure': {'s1': {'means': 's1_mean',\n",
       "   'stds': 's1_std',\n",
       "   'time': 't',\n",
       "   'unit': 'mM/L',\n",
       "   'time_unit': 'day',\n",
       "   'observable': True},\n",
       "  's2': {'means': 's2_mean',\n",
       "   'stds': 's2_std',\n",
       "   'time': 't',\n",
       "   'unit': 'mM/L',\n",
       "   'time_unit': 'day',\n",
       "   'observable': True},\n",
       "  's3': {'means': 's3_mean',\n",
       "   'stds': 's3_std',\n",
       "   'time': 't',\n",
       "   'unit': 'mM/L',\n",
       "   'time_unit': 'day',\n",
       "   'observable': True},\n",
       "  's4': {'means': 's4_mean',\n",
       "   'stds': 's4_std',\n",
       "   'time': 't',\n",
       "   'unit': 'mM/L',\n",
       "   'time_unit': 'day',\n",
       "   'observable': True}}}"
      ]
     },
     "execution_count": 12,
     "metadata": {},
     "output_type": "execute_result"
    }
   ],
   "source": [
    "data_specs"
   ]
  },
  {
   "cell_type": "code",
   "execution_count": 13,
   "metadata": {},
   "outputs": [],
   "source": [
    "import pandas as pd\n",
    "import xarray as xr"
   ]
  },
  {
   "cell_type": "code",
   "execution_count": 14,
   "metadata": {},
   "outputs": [],
   "source": [
    "toy = pd.DataFrame(raw_data['toy'])"
   ]
  },
  {
   "cell_type": "code",
   "execution_count": 15,
   "metadata": {},
   "outputs": [
    {
     "data": {
      "text/html": [
       "<div>\n",
       "<style scoped>\n",
       "    .dataframe tbody tr th:only-of-type {\n",
       "        vertical-align: middle;\n",
       "    }\n",
       "\n",
       "    .dataframe tbody tr th {\n",
       "        vertical-align: top;\n",
       "    }\n",
       "\n",
       "    .dataframe thead th {\n",
       "        text-align: right;\n",
       "    }\n",
       "</style>\n",
       "<table border=\"1\" class=\"dataframe\">\n",
       "  <thead>\n",
       "    <tr style=\"text-align: right;\">\n",
       "      <th></th>\n",
       "      <th>t</th>\n",
       "      <th>s1_mean</th>\n",
       "      <th>s1_std</th>\n",
       "      <th>s2_mean</th>\n",
       "      <th>s2_std</th>\n",
       "      <th>s3_mean</th>\n",
       "      <th>s3_std</th>\n",
       "      <th>s4_mean</th>\n",
       "      <th>s4_std</th>\n",
       "    </tr>\n",
       "  </thead>\n",
       "  <tbody>\n",
       "    <tr>\n",
       "      <th>0</th>\n",
       "      <td>0</td>\n",
       "      <td>0.781604</td>\n",
       "      <td>0.089666</td>\n",
       "      <td>0.122618</td>\n",
       "      <td>0.014113</td>\n",
       "      <td>0.493386</td>\n",
       "      <td>0.045112</td>\n",
       "      <td>0.432902</td>\n",
       "      <td>0.060928</td>\n",
       "    </tr>\n",
       "    <tr>\n",
       "      <th>1</th>\n",
       "      <td>1</td>\n",
       "      <td>0.735432</td>\n",
       "      <td>0.096760</td>\n",
       "      <td>0.213561</td>\n",
       "      <td>0.032115</td>\n",
       "      <td>0.382423</td>\n",
       "      <td>0.023723</td>\n",
       "      <td>0.418351</td>\n",
       "      <td>0.050077</td>\n",
       "    </tr>\n",
       "    <tr>\n",
       "      <th>2</th>\n",
       "      <td>3</td>\n",
       "      <td>0.555506</td>\n",
       "      <td>0.069964</td>\n",
       "      <td>0.292101</td>\n",
       "      <td>0.033800</td>\n",
       "      <td>0.306729</td>\n",
       "      <td>0.029330</td>\n",
       "      <td>0.320487</td>\n",
       "      <td>0.044707</td>\n",
       "    </tr>\n",
       "    <tr>\n",
       "      <th>3</th>\n",
       "      <td>5</td>\n",
       "      <td>0.508421</td>\n",
       "      <td>0.054991</td>\n",
       "      <td>0.322126</td>\n",
       "      <td>0.029231</td>\n",
       "      <td>0.310182</td>\n",
       "      <td>0.043908</td>\n",
       "      <td>0.282966</td>\n",
       "      <td>0.035618</td>\n",
       "    </tr>\n",
       "    <tr>\n",
       "      <th>4</th>\n",
       "      <td>10</td>\n",
       "      <td>0.524716</td>\n",
       "      <td>0.075953</td>\n",
       "      <td>0.307767</td>\n",
       "      <td>0.037173</td>\n",
       "      <td>0.291174</td>\n",
       "      <td>0.025244</td>\n",
       "      <td>0.259486</td>\n",
       "      <td>0.025876</td>\n",
       "    </tr>\n",
       "  </tbody>\n",
       "</table>\n",
       "</div>"
      ],
      "text/plain": [
       "    t   s1_mean    s1_std   s2_mean    s2_std   s3_mean    s3_std   s4_mean  \\\n",
       "0   0  0.781604  0.089666  0.122618  0.014113  0.493386  0.045112  0.432902   \n",
       "1   1  0.735432  0.096760  0.213561  0.032115  0.382423  0.023723  0.418351   \n",
       "2   3  0.555506  0.069964  0.292101  0.033800  0.306729  0.029330  0.320487   \n",
       "3   5  0.508421  0.054991  0.322126  0.029231  0.310182  0.043908  0.282966   \n",
       "4  10  0.524716  0.075953  0.307767  0.037173  0.291174  0.025244  0.259486   \n",
       "\n",
       "     s4_std  \n",
       "0  0.060928  \n",
       "1  0.050077  \n",
       "2  0.044707  \n",
       "3  0.035618  \n",
       "4  0.025876  "
      ]
     },
     "execution_count": 15,
     "metadata": {},
     "output_type": "execute_result"
    }
   ],
   "source": [
    "toy"
   ]
  },
  {
   "cell_type": "code",
   "execution_count": 16,
   "metadata": {},
   "outputs": [
    {
     "data": {
      "text/plain": [
       "{}"
      ]
     },
     "execution_count": 16,
     "metadata": {},
     "output_type": "execute_result"
    }
   ],
   "source": [
    "toy.attrs"
   ]
  },
  {
   "cell_type": "code",
   "execution_count": 17,
   "metadata": {},
   "outputs": [
    {
     "data": {
      "text/plain": [
       "{'name': 'toy data',\n",
       " 'description': \"from Natal van Riel and Christian Tiemann's publication in 2013\",\n",
       " 'raw_path': 'toyData.mat',\n",
       " 'groups': ['toy'],\n",
       " 'structure': {'s1': {'means': 's1_mean',\n",
       "   'stds': 's1_std',\n",
       "   'time': 't',\n",
       "   'unit': 'mM/L',\n",
       "   'time_unit': 'day',\n",
       "   'observable': True},\n",
       "  's2': {'means': 's2_mean',\n",
       "   'stds': 's2_std',\n",
       "   'time': 't',\n",
       "   'unit': 'mM/L',\n",
       "   'time_unit': 'day',\n",
       "   'observable': True},\n",
       "  's3': {'means': 's3_mean',\n",
       "   'stds': 's3_std',\n",
       "   'time': 't',\n",
       "   'unit': 'mM/L',\n",
       "   'time_unit': 'day',\n",
       "   'observable': True},\n",
       "  's4': {'means': 's4_mean',\n",
       "   'stds': 's4_std',\n",
       "   'time': 't',\n",
       "   'unit': 'mM/L',\n",
       "   'time_unit': 'day',\n",
       "   'observable': True}}}"
      ]
     },
     "execution_count": 17,
     "metadata": {},
     "output_type": "execute_result"
    }
   ],
   "source": [
    "data_specs"
   ]
  },
  {
   "cell_type": "code",
   "execution_count": 18,
   "metadata": {},
   "outputs": [],
   "source": [
    "for k,v in data_specs.items():\n",
    "    toy.attrs[k] = v"
   ]
  },
  {
   "cell_type": "code",
   "execution_count": 19,
   "metadata": {},
   "outputs": [
    {
     "data": {
      "text/plain": [
       "{'name': 'toy data',\n",
       " 'description': \"from Natal van Riel and Christian Tiemann's publication in 2013\",\n",
       " 'raw_path': 'toyData.mat',\n",
       " 'groups': ['toy'],\n",
       " 'structure': {'s1': {'means': 's1_mean',\n",
       "   'stds': 's1_std',\n",
       "   'time': 't',\n",
       "   'unit': 'mM/L',\n",
       "   'time_unit': 'day',\n",
       "   'observable': True},\n",
       "  's2': {'means': 's2_mean',\n",
       "   'stds': 's2_std',\n",
       "   'time': 't',\n",
       "   'unit': 'mM/L',\n",
       "   'time_unit': 'day',\n",
       "   'observable': True},\n",
       "  's3': {'means': 's3_mean',\n",
       "   'stds': 's3_std',\n",
       "   'time': 't',\n",
       "   'unit': 'mM/L',\n",
       "   'time_unit': 'day',\n",
       "   'observable': True},\n",
       "  's4': {'means': 's4_mean',\n",
       "   'stds': 's4_std',\n",
       "   'time': 't',\n",
       "   'unit': 'mM/L',\n",
       "   'time_unit': 'day',\n",
       "   'observable': True}}}"
      ]
     },
     "execution_count": 19,
     "metadata": {},
     "output_type": "execute_result"
    }
   ],
   "source": [
    "toy.attrs"
   ]
  },
  {
   "cell_type": "code",
   "execution_count": 20,
   "metadata": {},
   "outputs": [],
   "source": [
    "import pickle"
   ]
  },
  {
   "cell_type": "code",
   "execution_count": 21,
   "metadata": {},
   "outputs": [],
   "source": [
    "toy.to_pickle(\"data/toyModel/df_toydata.pkl\")"
   ]
  },
  {
   "cell_type": "code",
   "execution_count": 24,
   "metadata": {},
   "outputs": [],
   "source": [
    "toy.to_hdf('data/toyModel/df_toydata.h5', key=\"toy\", mode=\"w\")"
   ]
  },
  {
   "cell_type": "code",
   "execution_count": 25,
   "metadata": {},
   "outputs": [],
   "source": [
    "toy_pkl = pd.read_pickle(\"data/toyModel/df_toydata.pkl\")\n",
    "toy_h5 = pd.read_hdf('data/toyModel/df_toydata.h5', key=\"toy\")"
   ]
  }
 ],
 "metadata": {
  "file_extension": ".py",
  "kernelspec": {
   "display_name": "Python 3",
   "language": "python",
   "name": "python3"
  },
  "language_info": {
   "codemirror_mode": {
    "name": "ipython",
    "version": 3
   },
   "file_extension": ".py",
   "mimetype": "text/x-python",
   "name": "python",
   "nbconvert_exporter": "python",
   "pygments_lexer": "ipython3",
   "version": "3.8.1"
  },
  "mimetype": "text/x-python",
  "name": "python",
  "npconvert_exporter": "python",
  "pygments_lexer": "ipython3",
  "version": 3
 },
 "nbformat": 4,
 "nbformat_minor": 2
}
