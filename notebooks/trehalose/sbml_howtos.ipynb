{
 "cells": [
  {
   "cell_type": "markdown",
   "metadata": {},
   "source": [
    "# Response of the Smallbone model to step function input"
   ]
  },
  {
   "cell_type": "markdown",
   "metadata": {},
   "source": [
    "Purpose of this experiment: to verify that the Smallbone model in python has the same response as the MATLAB model."
   ]
  },
  {
   "cell_type": "markdown",
   "metadata": {},
   "source": [
    "<img src=\"metabolites-time_matlab.png\" alt=\"metabolites vs time in matlab\" width=\"50%\"/><img src=\"fluxes-time_matlab.png\" alt=\"fluxes vs time in matlab\" width=\"50%\"/>"
   ]
  },
  {
   "cell_type": "markdown",
   "metadata": {},
   "source": [
    "## The structure of the Trehalose cycle model"
   ]
  },
  {
   "cell_type": "code",
   "execution_count": 1,
   "metadata": {},
   "outputs": [],
   "source": [
    "import libsbml\n",
    "sbml = libsbml.readSBML(\"../../data/trehalose/smallbone.xml\")\n",
    "smallbone = sbml.model"
   ]
  },
  {
   "cell_type": "code",
   "execution_count": 2,
   "metadata": {},
   "outputs": [],
   "source": [
    "from pprint import pprint"
   ]
  },
  {
   "cell_type": "markdown",
   "metadata": {},
   "source": [
    "**Unit definition**"
   ]
  },
  {
   "cell_type": "code",
   "execution_count": 3,
   "metadata": {},
   "outputs": [
    {
     "name": "stdout",
     "output_type": "stream",
     "text": "[<UnitDefinition substance \"mmol\">,\n <UnitDefinition time \"min\">,\n <UnitDefinition mM \"mM\">,\n <UnitDefinition per_min \"per min\">,\n <UnitDefinition mM_per_min \"mM per min\">]\n"
    }
   ],
   "source": [
    "unit_definitions = list(smallbone.unit_definitions)\n",
    "pprint(unit_definitions)"
   ]
  },
  {
   "cell_type": "code",
   "execution_count": 4,
   "metadata": {},
   "outputs": [],
   "source": [
    "mmol = unit_definitions[0]"
   ]
  },
  {
   "cell_type": "code",
   "execution_count": 5,
   "metadata": {},
   "outputs": [
    {
     "name": "stdout",
     "output_type": "stream",
     "text": "mole\nsecond (exponent = 1, multiplier = 60, scale = 0)\n"
    }
   ],
   "source": [
    "m = list(mmol.getListOfUnits())[0]\n",
    "print(libsbml.UnitKind_toString(m.kind))\n",
    "print(libsbml.UnitDefinition_printUnits(unit_definitions[1]))"
   ]
  },
  {
   "cell_type": "markdown",
   "metadata": {},
   "source": [
    "**Compartment**"
   ]
  },
  {
   "cell_type": "code",
   "execution_count": 6,
   "metadata": {},
   "outputs": [
    {
     "name": "stdout",
     "output_type": "stream",
     "text": "[<Compartment cell \"cell\">, <Compartment medium \"medium\">]\n"
    }
   ],
   "source": [
    "compartments = list(smallbone.compartments)\n",
    "pprint(compartments)"
   ]
  },
  {
   "cell_type": "markdown",
   "metadata": {},
   "source": [
    "**Reactions**"
   ]
  },
  {
   "cell_type": "code",
   "execution_count": 23,
   "metadata": {},
   "outputs": [
    {
     "name": "stdout",
     "output_type": "stream",
     "text": "[<Reaction pgi \"G6P isomerase\">,\n <Reaction hxt \"glucose transport\">,\n <Reaction hxk \"hexokinase\">,\n <Reaction pgm \"phosphoglucomutase\">,\n <Reaction tpp \"T6P phosphatase\">,\n <Reaction tps \"T6P synthase\">,\n <Reaction nth \"trehalase\">,\n <Reaction ugp \"UDP glucose phosphorylase\">]\n"
    }
   ],
   "source": [
    "reactions = list(smallbone.reactions)\n",
    "pprint(reactions)"
   ]
  },
  {
   "cell_type": "code",
   "execution_count": 24,
   "metadata": {},
   "outputs": [
    {
     "name": "stdout",
     "output_type": "stream",
     "text": "cell * pow(shock, heat) * Vmax / Kg6p * (g6p - f6p / Keq) / (1 + g6p / Kg6p + f6p / Kf6p)\n"
    },
    {
     "data": {
      "text/plain": "'second (exponent = -1, multiplier = 60, scale = 0), mole (exponent = 1, multiplier = 0.001, scale = 0)'"
     },
     "execution_count": 24,
     "metadata": {},
     "output_type": "execute_result"
    }
   ],
   "source": [
    "r = reactions[0]\n",
    "kl = r.getKineticLaw()\n",
    "print(kl.formula)\n",
    "libsbml.UnitDefinition.printUnits(kl.getDerivedUnitDefinition())"
   ]
  },
  {
   "cell_type": "markdown",
   "metadata": {},
   "source": [
    "This is correct because flux should be a $mole/sec$ unit"
   ]
  },
  {
   "cell_type": "markdown",
   "metadata": {},
   "source": [
    "Every node in the sbml document also has the *reference* to the entire model👇"
   ]
  },
  {
   "cell_type": "code",
   "execution_count": 25,
   "metadata": {},
   "outputs": [
    {
     "data": {
      "text/plain": "<Model Smallbone2011_TrehaloseBiosynthesis \"Smallbone2011_TrehaloseBiosynthesis\">"
     },
     "execution_count": 25,
     "metadata": {},
     "output_type": "execute_result"
    }
   ],
   "source": [
    "r.model"
   ]
  },
  {
   "cell_type": "code",
   "execution_count": 26,
   "metadata": {},
   "outputs": [],
   "source": [
    "lr=reactions[0].getListOfReactants()"
   ]
  },
  {
   "cell_type": "code",
   "execution_count": 28,
   "metadata": {},
   "outputs": [
    {
     "name": "stdout",
     "output_type": "stream",
     "text": "<class 'libsbml.SpeciesReference'>\n1.0\n"
    }
   ],
   "source": [
    "sr = lr[0]\n",
    "print(type(sr))\n",
    "print(sr.stoichiometry)"
   ]
  },
  {
   "cell_type": "markdown",
   "metadata": {},
   "source": [
    "**Species**"
   ]
  },
  {
   "cell_type": "code",
   "execution_count": 29,
   "metadata": {},
   "outputs": [
    {
     "name": "stdout",
     "output_type": "stream",
     "text": "[<Species glc \"glucose\">,\n <Species g1p \"glucose 1-phosphate\">,\n <Species g6p \"glucose 6-phosphate\">,\n <Species trh \"trehalose\">,\n <Species t6p \"trehalose 6-phosphate\">,\n <Species udg \"UDP glucose\">,\n <Species adp \"ADP\">,\n <Species atp \"ATP\">,\n <Species ppi \"diphosphate\">,\n <Species f6p \"fructose 6-phosphate\">,\n <Species h \"H+\">,\n <Species pho \"phosphate\">,\n <Species udp \"UDP\">,\n <Species utp \"UTP\">,\n <Species h2o \"water\">,\n <Species glx \"glucose\">]\n"
    }
   ],
   "source": [
    "species = list(smallbone.species)\n",
    "pprint(species)"
   ]
  },
  {
   "cell_type": "code",
   "execution_count": 30,
   "metadata": {},
   "outputs": [
    {
     "name": "stdout",
     "output_type": "stream",
     "text": "Species 0: mole (exponent = 1, multiplier = 1, scale = -3), litre (exponent = -1, multiplier = 1, scale = 0)\n"
    }
   ],
   "source": [
    "s = species[0]\n",
    "i = 0\n",
    "print(\"Species \" + str(i) + \": \"\n",
    "    + libsbml.UnitDefinition.printUnits(s.getDerivedUnitDefinition()))"
   ]
  },
  {
   "cell_type": "markdown",
   "metadata": {},
   "source": [
    "**Parameters**"
   ]
  },
  {
   "cell_type": "raw",
   "metadata": {},
   "source": [
    "and **rules** to get the parameters ☝ at any time, not just to initialize.\n",
    "\n",
    "For example: assignment rule\n",
    "```xml\n",
    "<parameter metaid=\"_345287\" id=\"glc_change\" name=\"log10 change in glucose\" units=\"dimensionless\" constant=\"false\" />\n",
    "```\n",
    "```xml\n",
    "<assignmentRule metaid=\"_259073\" variable=\"glc_change\">\n",
    "<math xmlns=\"http://www.w3.org/1998/Math/MathML\">\n",
    "  <apply>\n",
    "    <log />\n",
    "    <logbase>\n",
    "      <cn type=\"integer\"> 10 </cn>\n",
    "    </logbase>\n",
    "    <apply>\n",
    "      <divide />\n",
    "      <ci> glc </ci>\n",
    "      <ci> glc_0 </ci>\n",
    "    </apply>\n",
    "  </apply>\n",
    "</math>\n",
    "</assignmentRule>\n",
    "```"
   ]
  },
  {
   "cell_type": "code",
   "execution_count": 42,
   "metadata": {},
   "outputs": [
    {
     "name": "stdout",
     "output_type": "stream",
     "text": "[<Parameter heat \"heat\">,\n <Parameter glc_0>,\n <Parameter glc_change \"log10 change in glucose\">,\n <Parameter g1p_0>,\n <Parameter g1p_change \"log10 change in glucose 1-phosphate\">,\n <Parameter g6p_0>,\n <Parameter g6p_change \"log10 change in glucose 6-phosphate\">,\n <Parameter trh_0>,\n <Parameter trh_change \"log10 change in trehalose\">,\n <Parameter t6p_0>,\n <Parameter t6p_change \"log10 change in trehalose 6-phosphate\">,\n <Parameter udg_0>,\n <Parameter udg_change \"log10 change in UDP glucose\">]\n"
    }
   ],
   "source": [
    "parameters = list(smallbone.parameters)\n",
    "pprint(parameters)"
   ]
  },
  {
   "cell_type": "markdown",
   "metadata": {},
   "source": [
    "**Parameter 2**\n",
    "```xml\n",
    "<parameter\n",
    "          metaid=\"_345287\"\n",
    "          id=\"glc_change\"\n",
    "          name=\"log10 change in glucose\"\n",
    "          units=\"dimensionless\"\n",
    "          constant=\"false\" />\n",
    "```"
   ]
  },
  {
   "cell_type": "code",
   "execution_count": 43,
   "metadata": {},
   "outputs": [
    {
     "name": "stdout",
     "output_type": "stream",
     "text": "0.0 glc_change False dimensionless\n"
    }
   ],
   "source": [
    "print(parameters[2].value,\n",
    "    parameters[2].id,\n",
    "    parameters[2].constant,\n",
    "    parameters[2].units\n",
    ")"
   ]
  },
  {
   "cell_type": "code",
   "execution_count": 44,
   "metadata": {},
   "outputs": [
    {
     "name": "stdout",
     "output_type": "stream",
     "text": "glc_change = log10(glc / glc_0)\ng1p_change = log10(g1p / g1p_0)\ng6p_change = log10(g6p / g6p_0)\ntrh_change = log10(trh / trh_0)\nt6p_change = log10(t6p / t6p_0)\nudg_change = log10(udg / udg_0)\n"
    }
   ],
   "source": [
    "rules = smallbone.rules\n",
    "for r in rules:\n",
    "    print(r.variable, \"=\", libsbml.formulaToString(r.math))"
   ]
  },
  {
   "cell_type": "code",
   "execution_count": 45,
   "metadata": {},
   "outputs": [
    {
     "data": {
      "text/plain": "True"
     },
     "execution_count": 45,
     "metadata": {},
     "output_type": "execute_result"
    }
   ],
   "source": [
    "rules.get('glc_0') is None"
   ]
  },
  {
   "cell_type": "markdown",
   "metadata": {},
   "source": [
    "**Initial assignments**\n",
    "\n",
    "Assign any symbol in the model with the formula when initializing the model. \n",
    "\n",
    "This will overwrite the `initial_concentration` property of species if the `symbol` is a species\n",
    "\n",
    "For example, the following `initialAssignment` initializes glucose `glc` with parameter `glc_0`\n",
    "\n",
    "```xml\n",
    "<initialAssignment metaid=\"_949171\" symbol=\"glc\">\n",
    "    <math xmlns=\"http://www.w3.org/1998/Math/MathML\">\n",
    "        <ci> glc_0 </ci>\n",
    "    </math>\n",
    "</initialAssignment>\n",
    "```\n",
    "\n",
    "Even if species `glc` has `initial_concentration` property \"0.09675\"\n",
    "\n",
    "```xml\n",
    "<species\n",
    "          metaid=\"metaid_glc\"\n",
    "          id=\"glc\"\n",
    "          name=\"glucose\"\n",
    "          compartment=\"cell\"\n",
    "          initialConcentration=\"0.09675\"\n",
    "          sboTerm=\"SBO:0000247\">\n",
    "```"
   ]
  },
  {
   "cell_type": "code",
   "execution_count": 48,
   "metadata": {},
   "outputs": [
    {
     "name": "stdout",
     "output_type": "stream",
     "text": "glc <- glc_0\ng1p <- g1p_0\ng6p <- g6p_0\ntrh <- trh_0\nt6p <- t6p_0\nudg <- udg_0\n"
    }
   ],
   "source": [
    "ias = smallbone.initial_assignments\n",
    "for iar in ias:\n",
    "    print(iar.symbol, \"<-\", libsbml.formulaToString(iar.math))"
   ]
  },
  {
   "cell_type": "code",
   "execution_count": 50,
   "metadata": {},
   "outputs": [
    {
     "data": {
      "text/plain": "True"
     },
     "execution_count": 50,
     "metadata": {},
     "output_type": "execute_result"
    }
   ],
   "source": [
    "ias.get('H') is None"
   ]
  },
  {
   "cell_type": "code",
   "execution_count": 51,
   "metadata": {},
   "outputs": [
    {
     "name": "stdout",
     "output_type": "stream",
     "text": "Populating the interactive namespace from numpy and matplotlib\n"
    }
   ],
   "source": [
    "from pyADAPT.bio import SBMLModel\n",
    "\n",
    "%pylab inline\n",
    "# %config InlineBackend.figure_format = 'retina'"
   ]
  },
  {
   "cell_type": "markdown",
   "metadata": {},
   "source": [
    "First, set the initial condition of the system to a steady states."
   ]
  },
  {
   "cell_type": "code",
   "execution_count": null,
   "metadata": {},
   "outputs": [],
   "source": [
    "x = list()\n",
    "for s in smallbone.model.getListOfSpecies():\n",
    "    x.append(s.initial_concentration)\n",
    "x = array(x)\n",
    "\n",
    "t_eval = np.linspace(0, 10, 50)\n",
    "y = smallbone.compute_states([0, 10], x, t_eval=t_eval)\n",
    "\n",
    "for i in range(y.shape[0]):\n",
    "    plot(t_eval, y[i, :], \"--\")\n",
    "names = [x.name for x in smallbone.sbml_species_list]\n",
    "legend(names);"
   ]
  },
  {
   "cell_type": "code",
   "execution_count": null,
   "metadata": {},
   "outputs": [],
   "source": []
  }
 ],
 "metadata": {
  "kernelspec": {
   "display_name": "Python 3.7.6 64-bit ('pyADAPT': pipenv)",
   "language": "python",
   "name": "python37664bitpyadaptpipenvde74bbefc3494671ae619977801f773b"
  },
  "language_info": {
   "codemirror_mode": {
    "name": "ipython",
    "version": 3
   },
   "file_extension": ".py",
   "mimetype": "text/x-python",
   "name": "python",
   "nbconvert_exporter": "python",
   "pygments_lexer": "ipython3",
   "version": "3.7.6-final"
  }
 },
 "nbformat": 4,
 "nbformat_minor": 4
}