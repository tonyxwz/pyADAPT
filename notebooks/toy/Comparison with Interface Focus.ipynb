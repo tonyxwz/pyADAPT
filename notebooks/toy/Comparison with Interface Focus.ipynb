{
 "cells": [
  {
   "cell_type": "markdown",
   "metadata": {},
   "source": [
    "# Introduction\n",
    "\n",
    "This appendix compares the result of pyADAPT to the results in *Interface Focus* paper. This paper comes with a MATLAB program, a bit different from the implementation in AMF by Christian Tiemann and MFI by Pascal van Beek."
   ]
  },
  {
   "cell_type": "code",
   "execution_count": null,
   "metadata": {},
   "outputs": [],
   "source": []
  }
 ],
 "metadata": {
  "kernelspec": {
   "display_name": "Python 3.7.6 64-bit ('pyADAPT': pipenv)",
   "language": "python",
   "name": "python37664bitpyadaptpipenvde74bbefc3494671ae619977801f773b"
  },
  "language_info": {
   "codemirror_mode": {
    "name": "ipython",
    "version": 3
   },
   "file_extension": ".py",
   "mimetype": "text/x-python",
   "name": "python",
   "nbconvert_exporter": "python",
   "pygments_lexer": "ipython3",
   "version": "3.7.6"
  }
 },
 "nbformat": 4,
 "nbformat_minor": 4
}
