{
 "nbformat": 4,
 "nbformat_minor": 2,
 "metadata": {
  "language_info": {
   "name": "python",
   "codemirror_mode": {
    "name": "ipython",
    "version": 3
   },
   "version": "3.7.6-final"
  },
  "orig_nbformat": 2,
  "file_extension": ".py",
  "mimetype": "text/x-python",
  "name": "python",
  "npconvert_exporter": "python",
  "pygments_lexer": "ipython3",
  "version": 3,
  "kernelspec": {
   "name": "python37664bitpyadaptpipenvde74bbefc3494671ae619977801f773b",
   "display_name": "Python 3.7.6 64-bit ('pyADAPT': pipenv)"
  }
 },
 "cells": [
  {
   "cell_type": "markdown",
   "metadata": {},
   "source": [
    "# Smallbone PyADAPT model's Response to increase of external glucose concentration\n",
    "\n",
    "This note book aims to illustrate that the Smallbone model converted to `pyADAPT` can give the same response to David's Matlab model."
   ]
  },
  {
   "cell_type": "code",
   "execution_count": 9,
   "metadata": {},
   "outputs": [],
   "source": [
    "from pyADAPT.bio.sbml_model import SBMLModel"
   ]
  },
  {
   "cell_type": "code",
   "execution_count": 11,
   "metadata": {},
   "outputs": [],
   "source": [
    "smallbone = SBMLModel(sbml_path=\"../../data/trehalose/smallbone.xml\")"
   ]
  },
  {
   "cell_type": "code",
   "execution_count": 12,
   "metadata": {},
   "outputs": [
    {
     "output_type": "execute_result",
     "data": {
      "text/plain": "<pyADAPT.bio.sbml_model.SBMLModel object at 0x0000018DAE95B6C8> Smallbone2011_TrehaloseBiosynthesis"
     },
     "metadata": {},
     "execution_count": 12
    }
   ],
   "source": [
    "smallbone"
   ]
  },
  {
   "cell_type": "code",
   "execution_count": 16,
   "metadata": {},
   "outputs": [
    {
     "output_type": "execute_result",
     "data": {
      "text/plain": "'log10(glc / glc_0)'"
     },
     "metadata": {},
     "execution_count": 16
    }
   ],
   "source": [
    "smallbone.parameters['glc_change'].expr"
   ]
  },
  {
   "cell_type": "code",
   "execution_count": 1,
   "metadata": {},
   "outputs": [],
   "source": [
    "from asteval import Interpreter\n",
    "\n",
    "interpreter = Interpreter()"
   ]
  },
  {
   "cell_type": "code",
   "execution_count": 7,
   "metadata": {},
   "outputs": [
    {
     "output_type": "execute_result",
     "data": {
      "text/plain": "<ufunc 'exp'>"
     },
     "metadata": {},
     "execution_count": 7
    }
   ],
   "source": [
    "interpreter.symtable['exp']"
   ]
  },
  {
   "cell_type": "code",
   "execution_count": null,
   "metadata": {},
   "outputs": [],
   "source": []
  }
 ]
}